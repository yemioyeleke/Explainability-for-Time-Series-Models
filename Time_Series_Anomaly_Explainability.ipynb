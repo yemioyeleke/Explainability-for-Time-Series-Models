{
  "nbformat": 4,
  "nbformat_minor": 0,
  "metadata": {
    "colab": {
      "provenance": [],
      "authorship_tag": "ABX9TyP+01e9wpTdCKEv67xAeWkz",
      "include_colab_link": true
    },
    "kernelspec": {
      "name": "python3",
      "display_name": "Python 3"
    },
    "language_info": {
      "name": "python"
    }
  },
  "cells": [
    {
      "cell_type": "markdown",
      "metadata": {
        "id": "view-in-github",
        "colab_type": "text"
      },
      "source": [
        "<a href=\"https://colab.research.google.com/github/yemioyeleke/Explainability-for-Time-Series-Models/blob/main/Time_Series_Anomaly_Explainability.ipynb\" target=\"_parent\"><img src=\"https://colab.research.google.com/assets/colab-badge.svg\" alt=\"Open In Colab\"/></a>"
      ]
    },
    {
      "cell_type": "markdown",
      "source": [
        "This work covers deep learning anomaly detection explainability for time series data. We will explore a time series dataset to detect, visualize, and explain anomalies using SHapley Additive exPlanations (SHAP), provided by Omni eXplainable AI (OmniXAI)."
      ],
      "metadata": {
        "id": "NdY6i3zKE_a1"
      }
    },
    {
      "cell_type": "code",
      "source": [],
      "metadata": {
        "id": "O8dkzw2OFWCi"
      },
      "execution_count": null,
      "outputs": []
    }
  ]
}